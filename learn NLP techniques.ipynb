{
 "cells": [
  {
   "cell_type": "code",
   "execution_count": 1,
   "id": "e720698b",
   "metadata": {},
   "outputs": [],
   "source": [
    "paragraph = \"\"\"\n",
    "Modi was born and raised in Vadnagar in northeastern Gujarat, where he completed his secondary education. He was introduced to the RSS at the age of eight. His account of helping his father sell tea at the Vadnagar railway station has not been reliably corroborated. At age 18, he was married to Jashodaben Modi, whom he abandoned soon after, only publicly acknowledging her four decades later when legally required to do so. Modi became a full-time worker for the RSS in Gujarat in 1971. The RSS assigned him to the BJP in 1985 and he held several positions within the party hierarchy until 2001, rising to the rank of general secretary.\n",
    "\"\"\""
   ]
  },
  {
   "cell_type": "code",
   "execution_count": 2,
   "id": "478eaad0",
   "metadata": {},
   "outputs": [
    {
     "data": {
      "text/plain": [
       "'\\nModi was born and raised in Vadnagar in northeastern Gujarat, where he completed his secondary education. He was introduced to the RSS at the age of eight. His account of helping his father sell tea at the Vadnagar railway station has not been reliably corroborated. At age 18, he was married to Jashodaben Modi, whom he abandoned soon after, only publicly acknowledging her four decades later when legally required to do so. Modi became a full-time worker for the RSS in Gujarat in 1971. The RSS assigned him to the BJP in 1985 and he held several positions within the party hierarchy until 2001, rising to the rank of general secretary.\\n'"
      ]
     },
     "execution_count": 2,
     "metadata": {},
     "output_type": "execute_result"
    }
   ],
   "source": [
    "paragraph\n"
   ]
  },
  {
   "cell_type": "code",
   "execution_count": 3,
   "id": "426e77f4",
   "metadata": {},
   "outputs": [],
   "source": [
    "import nltk\n",
    "from nltk.stem import PorterStemmer\n",
    "from nltk.corpus import stopwords"
   ]
  },
  {
   "cell_type": "code",
   "execution_count": 4,
   "id": "0df0fe14",
   "metadata": {},
   "outputs": [
    {
     "name": "stderr",
     "output_type": "stream",
     "text": [
      "[nltk_data] Downloading package punkt to\n",
      "[nltk_data]     C:\\Users\\anosh\\AppData\\Roaming\\nltk_data...\n",
      "[nltk_data]   Package punkt is already up-to-date!\n"
     ]
    },
    {
     "data": {
      "text/plain": [
       "True"
      ]
     },
     "execution_count": 4,
     "metadata": {},
     "output_type": "execute_result"
    }
   ],
   "source": [
    "#tokenization - paragraph into sentences - words\n",
    "\n",
    "nltk.download('punkt')"
   ]
  },
  {
   "cell_type": "code",
   "execution_count": 5,
   "id": "0efc79ca",
   "metadata": {},
   "outputs": [],
   "source": [
    "sentences = nltk.sent_tokenize(paragraph)"
   ]
  },
  {
   "cell_type": "code",
   "execution_count": 6,
   "id": "5f3d39cf",
   "metadata": {},
   "outputs": [
    {
     "data": {
      "text/plain": [
       "['\\nModi was born and raised in Vadnagar in northeastern Gujarat, where he completed his secondary education.',\n",
       " 'He was introduced to the RSS at the age of eight.',\n",
       " 'His account of helping his father sell tea at the Vadnagar railway station has not been reliably corroborated.',\n",
       " 'At age 18, he was married to Jashodaben Modi, whom he abandoned soon after, only publicly acknowledging her four decades later when legally required to do so.',\n",
       " 'Modi became a full-time worker for the RSS in Gujarat in 1971.',\n",
       " 'The RSS assigned him to the BJP in 1985 and he held several positions within the party hierarchy until 2001, rising to the rank of general secretary.']"
      ]
     },
     "execution_count": 6,
     "metadata": {},
     "output_type": "execute_result"
    }
   ],
   "source": [
    "sentences"
   ]
  },
  {
   "cell_type": "code",
   "execution_count": 7,
   "id": "55d14480",
   "metadata": {},
   "outputs": [
    {
     "data": {
      "text/plain": [
       "6"
      ]
     },
     "execution_count": 7,
     "metadata": {},
     "output_type": "execute_result"
    }
   ],
   "source": [
    "len(sentences)"
   ]
  },
  {
   "cell_type": "code",
   "execution_count": 8,
   "id": "04fecc86",
   "metadata": {},
   "outputs": [],
   "source": [
    "stemmer = PorterStemmer()"
   ]
  },
  {
   "cell_type": "code",
   "execution_count": 9,
   "id": "53d8f54b",
   "metadata": {},
   "outputs": [
    {
     "data": {
      "text/plain": [
       "'histori'"
      ]
     },
     "execution_count": 9,
     "metadata": {},
     "output_type": "execute_result"
    }
   ],
   "source": [
    "stemmer.stem('history')"
   ]
  },
  {
   "cell_type": "code",
   "execution_count": 11,
   "id": "6476ff03",
   "metadata": {},
   "outputs": [],
   "source": [
    "from nltk.stem import WordNetLemmatizer"
   ]
  },
  {
   "cell_type": "code",
   "execution_count": 12,
   "id": "6a0a34f5",
   "metadata": {},
   "outputs": [],
   "source": [
    "lemmatizer=WordNetLemmatizer()"
   ]
  },
  {
   "cell_type": "code",
   "execution_count": 17,
   "id": "8e96e0de",
   "metadata": {},
   "outputs": [
    {
     "data": {
      "text/plain": [
       "'go'"
      ]
     },
     "execution_count": 17,
     "metadata": {},
     "output_type": "execute_result"
    }
   ],
   "source": [
    "lemmatizer.lemmatize('goes')"
   ]
  },
  {
   "cell_type": "code",
   "execution_count": 10,
   "id": "c04cb148",
   "metadata": {},
   "outputs": [
    {
     "name": "stderr",
     "output_type": "stream",
     "text": [
      "[nltk_data] Downloading package wordnet to\n",
      "[nltk_data]     C:\\Users\\anosh\\AppData\\Roaming\\nltk_data...\n",
      "[nltk_data]   Package wordnet is already up-to-date!\n"
     ]
    },
    {
     "data": {
      "text/plain": [
       "True"
      ]
     },
     "execution_count": 10,
     "metadata": {},
     "output_type": "execute_result"
    }
   ],
   "source": [
    "nltk.download('wordnet')"
   ]
  },
  {
   "cell_type": "code",
   "execution_count": 13,
   "id": "ca75aba2",
   "metadata": {},
   "outputs": [
    {
     "data": {
      "text/plain": [
       "'history'"
      ]
     },
     "execution_count": 13,
     "metadata": {},
     "output_type": "execute_result"
    }
   ],
   "source": [
    "lemmatizer.lemmatize('history')"
   ]
  },
  {
   "cell_type": "code",
   "execution_count": 19,
   "id": "e7018700",
   "metadata": {},
   "outputs": [],
   "source": [
    "import re\n",
    "\n",
    "corpus = []\n",
    "\n",
    "for i in range(len(sentences)):\n",
    "    text = re.sub('[^a-zA-Z]', ' ', sentences[i])\n",
    "    text = text.lower()\n",
    "    corpus.append(text)"
   ]
  },
  {
   "cell_type": "code",
   "execution_count": 20,
   "id": "4501a051",
   "metadata": {},
   "outputs": [
    {
     "data": {
      "text/plain": [
       "[' modi was born and raised in vadnagar in northeastern gujarat  where he completed his secondary education ',\n",
       " 'he was introduced to the rss at the age of eight ',\n",
       " 'his account of helping his father sell tea at the vadnagar railway station has not been reliably corroborated ',\n",
       " 'at age     he was married to jashodaben modi  whom he abandoned soon after  only publicly acknowledging her four decades later when legally required to do so ',\n",
       " 'modi became a full time worker for the rss in gujarat in      ',\n",
       " 'the rss assigned him to the bjp in      and he held several positions within the party hierarchy until       rising to the rank of general secretary ']"
      ]
     },
     "execution_count": 20,
     "metadata": {},
     "output_type": "execute_result"
    }
   ],
   "source": [
    "corpus"
   ]
  },
  {
   "cell_type": "code",
   "execution_count": 24,
   "id": "236b0d64",
   "metadata": {},
   "outputs": [
    {
     "name": "stdout",
     "output_type": "stream",
     "text": [
      "modi\n",
      "born\n",
      "raised\n",
      "vadnagar\n",
      "northeastern\n",
      "gujarat\n",
      "completed\n",
      "secondary\n",
      "education\n",
      "introduced\n",
      "r\n",
      "age\n",
      "eight\n",
      "account\n",
      "helping\n",
      "father\n",
      "sell\n",
      "tea\n",
      "vadnagar\n",
      "railway\n",
      "station\n",
      "reliably\n",
      "corroborated\n",
      "age\n",
      "married\n",
      "jashodaben\n",
      "modi\n",
      "abandoned\n",
      "soon\n",
      "publicly\n",
      "acknowledging\n",
      "four\n",
      "decade\n",
      "later\n",
      "legally\n",
      "required\n",
      "modi\n",
      "became\n",
      "full\n",
      "time\n",
      "worker\n",
      "r\n",
      "gujarat\n",
      "r\n",
      "assigned\n",
      "bjp\n",
      "held\n",
      "several\n",
      "position\n",
      "within\n",
      "party\n",
      "hierarchy\n",
      "rising\n",
      "rank\n",
      "general\n",
      "secretary\n"
     ]
    }
   ],
   "source": [
    "##stemming\n",
    "\n",
    "for i in corpus:\n",
    "    words = nltk.word_tokenize(i)\n",
    "    for word in words:\n",
    "        if word not in set(stopwords.words('english')): #remove stopwords\n",
    "            print(lemmatizer.lemmatize(word))"
   ]
  },
  {
   "cell_type": "code",
   "execution_count": 22,
   "id": "ee990371",
   "metadata": {},
   "outputs": [
    {
     "name": "stderr",
     "output_type": "stream",
     "text": [
      "[nltk_data] Downloading package stopwords to\n",
      "[nltk_data]     C:\\Users\\anosh\\AppData\\Roaming\\nltk_data...\n",
      "[nltk_data]   Unzipping corpora\\stopwords.zip.\n"
     ]
    },
    {
     "data": {
      "text/plain": [
       "True"
      ]
     },
     "execution_count": 22,
     "metadata": {},
     "output_type": "execute_result"
    }
   ],
   "source": [
    "nltk.download('stopwords')"
   ]
  },
  {
   "cell_type": "code",
   "execution_count": 25,
   "id": "dd948e3a",
   "metadata": {},
   "outputs": [],
   "source": [
    "from sklearn.feature_extraction.text import CountVectorizer\n",
    "\n",
    "cv = CountVectorizer() #binary=True to keep only 0s and 1s"
   ]
  },
  {
   "cell_type": "code",
   "execution_count": 26,
   "id": "078a7e58",
   "metadata": {},
   "outputs": [],
   "source": [
    "X = cv.fit_transform(corpus)"
   ]
  },
  {
   "cell_type": "code",
   "execution_count": 28,
   "id": "4d6ec054",
   "metadata": {},
   "outputs": [
    {
     "data": {
      "text/plain": [
       "{'modi': 38,\n",
       " 'was': 66,\n",
       " 'born': 11,\n",
       " 'and': 5,\n",
       " 'raised': 47,\n",
       " 'in': 32,\n",
       " 'vadnagar': 65,\n",
       " 'northeastern': 39,\n",
       " 'gujarat': 23,\n",
       " 'where': 68,\n",
       " 'he': 25,\n",
       " 'completed': 12,\n",
       " 'his': 31,\n",
       " 'secondary': 53,\n",
       " 'education': 16,\n",
       " 'introduced': 33,\n",
       " 'to': 63,\n",
       " 'the': 61,\n",
       " 'rss': 52,\n",
       " 'at': 7,\n",
       " 'age': 4,\n",
       " 'of': 41,\n",
       " 'eight': 17,\n",
       " 'account': 1,\n",
       " 'helping': 27,\n",
       " 'father': 18,\n",
       " 'sell': 55,\n",
       " 'tea': 60,\n",
       " 'railway': 46,\n",
       " 'station': 59,\n",
       " 'has': 24,\n",
       " 'not': 40,\n",
       " 'been': 9,\n",
       " 'reliably': 49,\n",
       " 'corroborated': 13,\n",
       " 'married': 37,\n",
       " 'jashodaben': 34,\n",
       " 'whom': 69,\n",
       " 'abandoned': 0,\n",
       " 'soon': 58,\n",
       " 'after': 3,\n",
       " 'only': 42,\n",
       " 'publicly': 45,\n",
       " 'acknowledging': 2,\n",
       " 'her': 28,\n",
       " 'four': 20,\n",
       " 'decades': 14,\n",
       " 'later': 35,\n",
       " 'when': 67,\n",
       " 'legally': 36,\n",
       " 'required': 50,\n",
       " 'do': 15,\n",
       " 'so': 57,\n",
       " 'became': 8,\n",
       " 'full': 21,\n",
       " 'time': 62,\n",
       " 'worker': 71,\n",
       " 'for': 19,\n",
       " 'assigned': 6,\n",
       " 'him': 30,\n",
       " 'bjp': 10,\n",
       " 'held': 26,\n",
       " 'several': 56,\n",
       " 'positions': 44,\n",
       " 'within': 70,\n",
       " 'party': 43,\n",
       " 'hierarchy': 29,\n",
       " 'until': 64,\n",
       " 'rising': 51,\n",
       " 'rank': 48,\n",
       " 'general': 22,\n",
       " 'secretary': 54}"
      ]
     },
     "execution_count": 28,
     "metadata": {},
     "output_type": "execute_result"
    }
   ],
   "source": [
    "cv.vocabulary_\n"
   ]
  },
  {
   "cell_type": "code",
   "execution_count": 29,
   "id": "3a3687d7",
   "metadata": {},
   "outputs": [
    {
     "data": {
      "text/plain": [
       "' modi was born and raised in vadnagar in northeastern gujarat  where he completed his secondary education '"
      ]
     },
     "execution_count": 29,
     "metadata": {},
     "output_type": "execute_result"
    }
   ],
   "source": [
    "corpus[0]"
   ]
  },
  {
   "cell_type": "code",
   "execution_count": 30,
   "id": "a7f79d06",
   "metadata": {},
   "outputs": [
    {
     "data": {
      "text/plain": [
       "array([[0, 0, 0, 0, 0, 1, 0, 0, 0, 0, 0, 1, 1, 0, 0, 0, 1, 0, 0, 0, 0, 0,\n",
       "        0, 1, 0, 1, 0, 0, 0, 0, 0, 1, 2, 0, 0, 0, 0, 0, 1, 1, 0, 0, 0, 0,\n",
       "        0, 0, 0, 1, 0, 0, 0, 0, 0, 1, 0, 0, 0, 0, 0, 0, 0, 0, 0, 0, 0, 1,\n",
       "        1, 0, 1, 0, 0, 0]], dtype=int64)"
      ]
     },
     "execution_count": 30,
     "metadata": {},
     "output_type": "execute_result"
    }
   ],
   "source": [
    "X[0].toarray() #bag of words"
   ]
  },
  {
   "cell_type": "code",
   "execution_count": 32,
   "id": "0f3d71b5",
   "metadata": {},
   "outputs": [
    {
     "data": {
      "text/plain": [
       "(1, 72)"
      ]
     },
     "execution_count": 32,
     "metadata": {},
     "output_type": "execute_result"
    }
   ],
   "source": [
    "X[0].shape"
   ]
  },
  {
   "cell_type": "code",
   "execution_count": 15,
   "id": "1ffc7449",
   "metadata": {},
   "outputs": [
    {
     "name": "stderr",
     "output_type": "stream",
     "text": [
      "[nltk_data] Downloading package stopwords to\n",
      "[nltk_data]     C:\\Users\\anosh\\AppData\\Roaming\\nltk_data...\n",
      "[nltk_data]   Package stopwords is already up-to-date!\n",
      "[nltk_data] Downloading package wordnet to\n",
      "[nltk_data]     C:\\Users\\anosh\\AppData\\Roaming\\nltk_data...\n",
      "[nltk_data]   Package wordnet is already up-to-date!\n"
     ]
    }
   ],
   "source": [
    "import re\n",
    "import nltk\n",
    "from nltk.corpus import stopwords\n",
    "from nltk.stem import WordNetLemmatizer\n",
    "\n",
    "nltk.download('stopwords')\n",
    "nltk.download('wordnet')\n",
    "\n",
    "lemmatizer = WordNetLemmatizer()\n",
    "stop_words = set(stopwords.words('english'))\n",
    "\n",
    "corpus = []\n",
    "\n",
    "# Assuming sentences is defined somewhere\n",
    "for sentence in sentences:\n",
    "    words = re.sub('[^a-zA-Z]', ' ', sentence)\n",
    "    words = words.lower()\n",
    "    words = words.split()\n",
    "    words = [lemmatizer.lemmatize(word) for word in words if word not in stop_words]\n",
    "    words = ' '.join(words)\n",
    "    corpus.append(words)\n"
   ]
  },
  {
   "cell_type": "code",
   "execution_count": 16,
   "id": "538a23af",
   "metadata": {},
   "outputs": [
    {
     "data": {
      "text/plain": [
       "['modi born raised vadnagar northeastern gujarat completed secondary education',\n",
       " 'introduced r age eight',\n",
       " 'account helping father sell tea vadnagar railway station reliably corroborated',\n",
       " 'age married jashodaben modi abandoned soon publicly acknowledging four decade later legally required',\n",
       " 'modi became full time worker r gujarat',\n",
       " 'r assigned bjp held several position within party hierarchy rising rank general secretary']"
      ]
     },
     "execution_count": 16,
     "metadata": {},
     "output_type": "execute_result"
    }
   ],
   "source": [
    "corpus"
   ]
  },
  {
   "cell_type": "code",
   "execution_count": 17,
   "id": "e6873b41",
   "metadata": {},
   "outputs": [],
   "source": [
    "#BOW\n",
    "from sklearn.feature_extraction.text import CountVectorizer\n",
    "cv = CountVectorizer(binary = True, ngram_range=(2,3))"
   ]
  },
  {
   "cell_type": "code",
   "execution_count": 18,
   "id": "a9dbe18f",
   "metadata": {},
   "outputs": [],
   "source": [
    "X = cv.fit_transform(corpus)"
   ]
  },
  {
   "cell_type": "code",
   "execution_count": 19,
   "id": "2441d4a1",
   "metadata": {},
   "outputs": [
    {
     "data": {
      "text/plain": [
       "{'modi born': 49,\n",
       " 'born raised': 15,\n",
       " 'raised vadnagar': 61,\n",
       " 'vadnagar northeastern': 81,\n",
       " 'northeastern gujarat': 51,\n",
       " 'gujarat completed': 28,\n",
       " 'completed secondary': 17,\n",
       " 'secondary education': 68,\n",
       " 'modi born raised': 50,\n",
       " 'born raised vadnagar': 16,\n",
       " 'raised vadnagar northeastern': 62,\n",
       " 'vadnagar northeastern gujarat': 82,\n",
       " 'northeastern gujarat completed': 52,\n",
       " 'gujarat completed secondary': 29,\n",
       " 'completed secondary education': 18,\n",
       " 'introduced age': 36,\n",
       " 'age eight': 6,\n",
       " 'introduced age eight': 37,\n",
       " 'account helping': 2,\n",
       " 'helping father': 32,\n",
       " 'father sell': 21,\n",
       " 'sell tea': 69,\n",
       " 'tea vadnagar': 77,\n",
       " 'vadnagar railway': 83,\n",
       " 'railway station': 59,\n",
       " 'station reliably': 75,\n",
       " 'reliably corroborated': 65,\n",
       " 'account helping father': 3,\n",
       " 'helping father sell': 33,\n",
       " 'father sell tea': 22,\n",
       " 'sell tea vadnagar': 70,\n",
       " 'tea vadnagar railway': 78,\n",
       " 'vadnagar railway station': 84,\n",
       " 'railway station reliably': 60,\n",
       " 'station reliably corroborated': 76,\n",
       " 'age married': 7,\n",
       " 'married jashodaben': 43,\n",
       " 'jashodaben modi': 38,\n",
       " 'modi abandoned': 45,\n",
       " 'abandoned soon': 0,\n",
       " 'soon publicly': 73,\n",
       " 'publicly acknowledging': 57,\n",
       " 'acknowledging four': 4,\n",
       " 'four decade': 23,\n",
       " 'decade later': 19,\n",
       " 'later legally': 40,\n",
       " 'legally required': 42,\n",
       " 'age married jashodaben': 8,\n",
       " 'married jashodaben modi': 44,\n",
       " 'jashodaben modi abandoned': 39,\n",
       " 'modi abandoned soon': 46,\n",
       " 'abandoned soon publicly': 1,\n",
       " 'soon publicly acknowledging': 74,\n",
       " 'publicly acknowledging four': 58,\n",
       " 'acknowledging four decade': 5,\n",
       " 'four decade later': 24,\n",
       " 'decade later legally': 20,\n",
       " 'later legally required': 41,\n",
       " 'modi became': 47,\n",
       " 'became full': 11,\n",
       " 'full time': 25,\n",
       " 'time worker': 79,\n",
       " 'worker gujarat': 87,\n",
       " 'modi became full': 48,\n",
       " 'became full time': 12,\n",
       " 'full time worker': 26,\n",
       " 'time worker gujarat': 80,\n",
       " 'assigned bjp': 9,\n",
       " 'bjp held': 13,\n",
       " 'held several': 30,\n",
       " 'several position': 71,\n",
       " 'position within': 55,\n",
       " 'within party': 85,\n",
       " 'party hierarchy': 53,\n",
       " 'hierarchy rising': 34,\n",
       " 'rising rank': 66,\n",
       " 'rank general': 63,\n",
       " 'general secretary': 27,\n",
       " 'assigned bjp held': 10,\n",
       " 'bjp held several': 14,\n",
       " 'held several position': 31,\n",
       " 'several position within': 72,\n",
       " 'position within party': 56,\n",
       " 'within party hierarchy': 86,\n",
       " 'party hierarchy rising': 54,\n",
       " 'hierarchy rising rank': 35,\n",
       " 'rising rank general': 67,\n",
       " 'rank general secretary': 64}"
      ]
     },
     "execution_count": 19,
     "metadata": {},
     "output_type": "execute_result"
    }
   ],
   "source": [
    "cv.vocabulary_"
   ]
  },
  {
   "cell_type": "code",
   "execution_count": 20,
   "id": "c1bb0e7d",
   "metadata": {},
   "outputs": [
    {
     "data": {
      "text/plain": [
       "'modi born raised vadnagar northeastern gujarat completed secondary education'"
      ]
     },
     "execution_count": 20,
     "metadata": {},
     "output_type": "execute_result"
    }
   ],
   "source": [
    "corpus[0]"
   ]
  },
  {
   "cell_type": "code",
   "execution_count": 21,
   "id": "b8b0323b",
   "metadata": {},
   "outputs": [
    {
     "data": {
      "text/plain": [
       "array([[0, 0, 0, 0, 0, 0, 0, 0, 0, 0, 0, 0, 0, 0, 0, 1, 1, 1, 1, 0, 0, 0,\n",
       "        0, 0, 0, 0, 0, 0, 1, 1, 0, 0, 0, 0, 0, 0, 0, 0, 0, 0, 0, 0, 0, 0,\n",
       "        0, 0, 0, 0, 0, 1, 1, 1, 1, 0, 0, 0, 0, 0, 0, 0, 0, 1, 1, 0, 0, 0,\n",
       "        0, 0, 1, 0, 0, 0, 0, 0, 0, 0, 0, 0, 0, 0, 0, 1, 1, 0, 0, 0, 0, 0]],\n",
       "      dtype=int64)"
      ]
     },
     "execution_count": 21,
     "metadata": {},
     "output_type": "execute_result"
    }
   ],
   "source": [
    "X[0].toarray()"
   ]
  },
  {
   "cell_type": "code",
   "execution_count": 22,
   "id": "48a4f0fc",
   "metadata": {},
   "outputs": [
    {
     "data": {
      "text/plain": [
       "<6x88 sparse matrix of type '<class 'numpy.int64'>'\n",
       "\twith 88 stored elements in Compressed Sparse Row format>"
      ]
     },
     "execution_count": 22,
     "metadata": {},
     "output_type": "execute_result"
    }
   ],
   "source": [
    "X"
   ]
  },
  {
   "cell_type": "code",
   "execution_count": 31,
   "id": "c988c360",
   "metadata": {},
   "outputs": [],
   "source": [
    "from sklearn.feature_extraction.text import TfidfVectorizer\n",
    "\n",
    "cv = TfidfVectorizer(ngram_range  = (1,3), max_features = 3)\n",
    "X = cv.fit_transform(corpus)\n"
   ]
  },
  {
   "cell_type": "code",
   "execution_count": 32,
   "id": "6a1f48aa",
   "metadata": {},
   "outputs": [
    {
     "data": {
      "text/plain": [
       "'modi born raised vadnagar northeastern gujarat completed secondary education'"
      ]
     },
     "execution_count": 32,
     "metadata": {},
     "output_type": "execute_result"
    }
   ],
   "source": [
    "corpus[0]"
   ]
  },
  {
   "cell_type": "code",
   "execution_count": 33,
   "id": "9b928495",
   "metadata": {},
   "outputs": [
    {
     "data": {
      "text/plain": [
       "array([[0.60714432, 0.51259296, 0.60714432]])"
      ]
     },
     "execution_count": 33,
     "metadata": {},
     "output_type": "execute_result"
    }
   ],
   "source": [
    "X[0].toarray()"
   ]
  },
  {
   "cell_type": "code",
   "execution_count": null,
   "id": "752fa852",
   "metadata": {},
   "outputs": [],
   "source": []
  }
 ],
 "metadata": {
  "kernelspec": {
   "display_name": "Python 3 (ipykernel)",
   "language": "python",
   "name": "python3"
  },
  "language_info": {
   "codemirror_mode": {
    "name": "ipython",
    "version": 3
   },
   "file_extension": ".py",
   "mimetype": "text/x-python",
   "name": "python",
   "nbconvert_exporter": "python",
   "pygments_lexer": "ipython3",
   "version": "3.11.1"
  }
 },
 "nbformat": 4,
 "nbformat_minor": 5
}
